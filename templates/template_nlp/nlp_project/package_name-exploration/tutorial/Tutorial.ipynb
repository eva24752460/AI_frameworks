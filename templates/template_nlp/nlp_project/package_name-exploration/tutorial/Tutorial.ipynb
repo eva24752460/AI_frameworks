{
 "cells": [
  {
   "cell_type": "markdown",
   "metadata": {},
   "source": []
  },
  {
   "cell_type": "markdown",
   "metadata": {},
   "source": [
    "# Template NLP"
   ]
  },
  {
   "cell_type": "markdown",
   "metadata": {},
   "source": [
    "**Prerequisites :**\n",
    "- Download the fasttext embedding matrix: https://dl.fbaipublicfiles.com/fasttext/vectors-crawl/cc.fr.300.vec.gz\n",
    "\n",
    "- **Launch this notebook with the kernel of your virtual environment** (used in the last part of this notebook). In order to create a kernel linked to your virtual environment : `python -m ipykernel install --user --name=name_of_the_kernel` (when your virtual environment is activated)"
   ]
  },
  {
   "cell_type": "markdown",
   "metadata": {},
   "source": [
    "## 1. Understand how the nlp template works"
   ]
  },
  {
   "cell_type": "markdown",
   "metadata": {},
   "source": [
    "**Why use the NLP template?**\n",
    "\n",
    "The NLP (natural language processing) template automatically generates a NLP project including the more mainstream models and facilitating their industrialization.\n",
    "\n",
    "The generated project can be used for **classification** tasks on text data. Of course, you have to adapt it to your particular use case. "
   ]
  },
  {
   "cell_type": "markdown",
   "metadata": {},
   "source": [
    "**Structure of the generated project**"
   ]
  },
  {
   "cell_type": "markdown",
   "metadata": {},
   "source": [
    ".   \n",
    "├── <span style=\"color:darkred\">{{package_name}}</span>  **# The package** <br>\n",
    "│   ├── <span style=\"color:darkred\">models_training</span> **# Folder containing all the modules pertaining to the models** <br>\n",
    "│   ├── <span style=\"color:darkred\">monitoring</span> **# Folder containing all the modules pertaining to the explainers and MLflow** <br>\n",
    "│   ├── <span style=\"color:darkred\">preprocessing</span> **# Folder containing all the modules pertaining to preprocessing** <br>\n",
    "├── <span style=\"color:darkred\">{{package_name}}-data</span>   &emsp;&emsp;&emsp;&emsp;**# Folder containing all the datasets** <br>\n",
    "├── <span style=\"color:darkred\">{{package_name}}-exploration</span>   &emsp;&emsp;&emsp;&emsp;**# Folder containing this tutorial and which should contain all your experiments and explorations** <br> \n",
    "├── <span style=\"color:darkred\">{{package_name}}-models</span>   &emsp;&emsp;&emsp;&emsp;**# Folder containing all the models generated** <br>\n",
    "├── <span style=\"color:darkred\">{{package_name}}-ressources</span>   &emsp;&emsp;&emsp;&emsp;**# Folder containing some ressources such as the instructions to upload a model** <br>\n",
    "├── <span style=\"color:darkred\">{{package_name}}-scripts</span>   &emsp;&emsp;&emsp;&emsp;**# Folder containing examples script to preprocess data, train models, predict and use a demonstrator** <br>\n",
    "│   ├── <span style=\"color:darkred\">active_learning</span> **# Folder containing an example of active learning** <br>\n",
    "│   ├── <span style=\"color:darkred\">utils</span> **# Folder containing scripts to preprocess data** <br>\n",
    "│   ├── <span style=\"color:darkred\">utils_torch</span> **# Folder containing scripts to put data in pytorch format** <br>\n",
    "├── <span style=\"color:darkred\">{{package_name}}-transformers</span>   &emsp;&emsp;&emsp;&emsp;**# Folder containing the pytorch transformers** <br>\n",
    "├── <span style=\"color:darkred\">{{package_name}}.egg-info</span>   &emsp;&emsp;&emsp;&emsp;**# Folder containing various data on the package** <br>\n",
    "├── <span style=\"color:darkred\">tests</span>   &emsp;&emsp;&emsp;&emsp;**# Folder containing all the unit tests** <br>\n",
    "├── .gitignore <br>\n",
    "├── Makefile <br>\n",
    "├── README.md    <br>\n",
    "├── requirements.txt    <br>\n",
    "└── setup.py   "
   ]
  },
  {
   "cell_type": "markdown",
   "metadata": {},
   "source": []
  },
  {
   "cell_type": "code",
   "execution_count": null,
   "metadata": {},
   "outputs": [],
   "source": []
  },
  {
   "cell_type": "code",
   "execution_count": null,
   "metadata": {},
   "outputs": [],
   "source": []
  }
 ],
 "metadata": {
  "kernelspec": {
   "display_name": "Venv_template_nlp",
   "language": "python",
   "name": "venv_template_nlp"
  },
  "language_info": {
   "codemirror_mode": {
    "name": "ipython",
    "version": 3
   },
   "file_extension": ".py",
   "mimetype": "text/x-python",
   "name": "python",
   "nbconvert_exporter": "python",
   "pygments_lexer": "ipython3",
   "version": "3.8.10"
  }
 },
 "nbformat": 4,
 "nbformat_minor": 4
}
