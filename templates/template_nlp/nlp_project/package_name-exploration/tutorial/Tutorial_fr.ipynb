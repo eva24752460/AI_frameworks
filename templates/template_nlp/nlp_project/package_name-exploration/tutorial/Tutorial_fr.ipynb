{
 "cells": [
  {
   "cell_type": "code",
   "execution_count": null,
   "metadata": {},
   "outputs": [],
   "source": [
    "import os\n",
    "import pandas as pd"
   ]
  },
  {
   "cell_type": "code",
   "execution_count": null,
   "metadata": {},
   "outputs": [],
   "source": [
    "from {{package_name}}.models_training.model_tfidf_svm import ModelTfidfSvm "
   ]
  },
  {
   "cell_type": "code",
   "execution_count": null,
   "metadata": {},
   "outputs": [],
   "source": [
    "def text_to_sentence(text, min_sentence_size, min_sentence_word):\n",
    "    text = re.sub(r'\\s',' ', text)\n",
    "    text = re.sub(r'\\!', r'.', text)\n",
    "    text = re.sub(r'\\?', r'.', text)\n",
    "    text = re.sub(' +', ' ', text)\n",
    "    list_sentences = text.split('.')\n",
    "    list_sentences = [sentence for sentence in list_sentences if len(sentence) >= min_sentence_size]\n",
    "    list_sentences = [sentence for sentence in list_sentences if len(sentence.split(' ')) >= min_sentence_word]\n",
    "    return list_sentences"
   ]
  },
  {
   "cell_type": "code",
   "execution_count": null,
   "metadata": {},
   "outputs": [],
   "source": [
    "min_sentence_size = 50\n",
    "min_sentence_word = 10\n",
    "df_texts = pd.read_csv('../{{package_name}}-data/texts.csv', sep='|')"
   ]
  },
  {
   "cell_type": "code",
   "execution_count": null,
   "metadata": {},
   "outputs": [],
   "source": []
  },
  {
   "cell_type": "code",
   "execution_count": null,
   "metadata": {},
   "outputs": [],
   "source": [
    "list_phrases = []\n",
    "for index, row in df_texts.iterrows():\n",
    "    text = row['text']\n",
    "    author = row['author']\n",
    "    book = row['book']\n",
    "    sentences = text_to_sentence(text, min_sentence_size, min_sentence_word)\n",
    "    list_phrases = list_phrases+[(sentence, author, book) for sentence in sentences]\n",
    "df_phrases = pd.DataFrame(list_phrases, columns=['sentence', 'author', 'book'])\n",
    "set_author = set(df_texts['author'])\n",
    "df_phrases.value_counts('author')/len(df_phrases)"
   ]
  },
  {
   "cell_type": "code",
   "execution_count": null,
   "metadata": {},
   "outputs": [],
   "source": [
    "dict_books_to_test = {}\n",
    "for author in set_author:\n",
    "    set_books = set(df_texts[df_texts['author']==author]['book'])\n",
    "    dict_books_to_test[author] = random.sample(set_books, k=1)[0]\n",
    "df_test = df_phrases[df_phrases['book'].isin(dict_books_to_test.values())].copy()\n",
    "\n",
    "df = df_phrases.sample(frac=1)\n",
    "df = df[~df['book'].isin(dict_books_to_test.values())]\n",
    "df_train = df[:int(4*len(df)/4)].copy()\n",
    "df_valid = df[int(4*len(df)/4):].copy()\n",
    "\n",
    "dict_books_to_test"
   ]
  },
  {
   "cell_type": "code",
   "execution_count": null,
   "metadata": {},
   "outputs": [],
   "source": [
    "dict_result = {}\n",
    "count =0\n",
    "for ngram_range in [(1, 1), (1, 2)]:\n",
    "    for C in [0.5, 1, 2]:\n",
    "        model = ModelTfidfSvm(tfidf_params = {'ngram_range': ngram_range}, svc_params={'C':C})\n",
    "        model.fit(df_train['sentence'], df_train['author'], x_valid=df_valid['sentence'], y_valid=df_valid['author'])\n",
    "        df_valid['pred'] = model.predict(df_valid['sentence'])\n",
    "        score = f1_score(df_valid['author'], df_valid['pred'], average='macro')\n",
    "        dict_tmp = {'score':score, 'ngram_range':ngram_range, 'C':C}\n",
    "        dict_result[count] = dict_tmp.copy()\n",
    "        count += 1\n",
    "        print(dict_tmp)"
   ]
  },
  {
   "cell_type": "code",
   "execution_count": null,
   "metadata": {},
   "outputs": [],
   "source": []
  },
  {
   "cell_type": "code",
   "execution_count": null,
   "metadata": {},
   "outputs": [],
   "source": [
    "model = ModelTfidfSvm(tfidf_params = {'ngram_range': (1, 2)}, svc_params={'C':1})\n",
    "model.fit(df_train['sentence'], df_train['author'], x_valid=df_valid['sentence'], y_valid=df_valid['author'])"
   ]
  },
  {
   "cell_type": "code",
   "execution_count": null,
   "metadata": {},
   "outputs": [],
   "source": [
    "df_test['pred'] = model.predict(df_test['sentence'])\n",
    "score = f1_score(df_test['author'], df_test['pred'], average='macro')\n",
    "print(score)"
   ]
  },
  {
   "cell_type": "code",
   "execution_count": null,
   "metadata": {},
   "outputs": [],
   "source": [
    "def text_to_dataframe(text, min_sentence_size, min_sentence_word, author=None, book=None):\n",
    "    sentences = text_to_sentence(text, min_sentence_size, min_sentence_word)\n",
    "    sentences = [(sentence, author, book) for sentence in sentences]\n",
    "    df = pd.DataFrame(sentences, columns=['sentence', 'author', 'book'])\n",
    "    return df\n",
    "\n",
    "def predict_author(text, model, min_sentence_size, min_sentence_word):\n",
    "    df = text_to_dataframe(text, min_sentence_size, min_sentence_word)\n",
    "    counter = dict(Counter(list(model.predict(df['sentence']))))\n",
    "    max_value = max(counter, key=counter.get)\n",
    "    return max_value, counter\n",
    "\n",
    "def take_random_part_text(text, length):\n",
    "    text_length = len(text)\n",
    "    beginning = random.randrange(0, (text_length-length)-1)\n",
    "    return text[beginning: beginning+length]"
   ]
  },
  {
   "cell_type": "code",
   "execution_count": null,
   "metadata": {},
   "outputs": [],
   "source": [
    "dict_result = {}\n",
    "random_part = False\n",
    "for author, book in dict_books_to_test.items():\n",
    "    row = df_texts[df_texts['book']==book]\n",
    "    text = row.iloc[0]['text']\n",
    "    length = len(text)\n",
    "    if random_part:\n",
    "        text = take_random_part_text(text, min_sentence_size*300)\n",
    "    prediction, counter = predict_author(text, model, min_sentence_size, min_sentence_word)\n",
    "    dict_result[author] = {'prediction': prediction, 'counter': counter, 'length': len(text), 'perc_text':len(text)/length}\n",
    "dict_result"
   ]
  },
  {
   "cell_type": "code",
   "execution_count": null,
   "metadata": {},
   "outputs": [],
   "source": []
  }
 ],
 "metadata": {
  "kernelspec": {
   "display_name": "Venv_template_nlp",
   "language": "python",
   "name": "venv_template_nlp"
  },
  "language_info": {
   "codemirror_mode": {
    "name": "ipython",
    "version": 3
   },
   "file_extension": ".py",
   "mimetype": "text/x-python",
   "name": "python",
   "nbconvert_exporter": "python",
   "pygments_lexer": "ipython3",
   "version": "3.8.10"
  }
 },
 "nbformat": 4,
 "nbformat_minor": 4
}
